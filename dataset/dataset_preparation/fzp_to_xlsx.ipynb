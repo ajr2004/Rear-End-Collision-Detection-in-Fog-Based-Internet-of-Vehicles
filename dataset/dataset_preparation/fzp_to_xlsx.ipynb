{
 "cells": [
  {
   "cell_type": "code",
   "execution_count": null,
   "metadata": {},
   "outputs": [],
   "source": [
    "import pandas as pd\n",
    "\n",
    "fzp_file = r\"file_name.fzp\"  # Change this to your actual file name\n",
    "output_excel = \"Dhaula Kunam_with_fog.xlsx\"\n"
   ]
  },
  {
   "cell_type": "code",
   "execution_count": 4,
   "metadata": {},
   "outputs": [
    {
     "name": "stdout",
     "output_type": "stream",
     "text": [
      "Conversion successful! Data saved to simulation_data.xlsx\n"
     ]
    }
   ],
   "source": [
    "\n",
    "# Read the file and extract relevant data\n",
    "with open(fzp_file, \"r\", encoding=\"utf-8\") as file:\n",
    "    lines = file.readlines()\n",
    "\n",
    "# Find the start of data (after $VEHICLE:)\n",
    "for i, line in enumerate(lines):\n",
    "    if line.startswith(\"$VEHICLE:\"):\n",
    "        header_line = line.strip().replace(\"$VEHICLE:\", \"\")  # Extract column names\n",
    "        data_start = i + 1\n",
    "        break\n",
    "\n",
    "# Extract headers and data\n",
    "columns = header_line.split(\";\")  # Column names\n",
    "data = [line.strip().split(\";\") for line in lines[data_start:] if line.strip()]\n",
    "\n",
    "# Create DataFrame\n",
    "df = pd.DataFrame(data, columns=columns)\n",
    "\n",
    "# Convert numeric columns\n",
    "df[\"FOLLOWDISTGR\"] = df[\"FOLLOWDISTGR\"].astype(float)\n",
    "df[\"FOLLOWDISTNET\"] = df[\"FOLLOWDISTNET\"].astype(float)\n",
    "df[\"DELAYTM\"] = df[\"DELAYTM\"].astype(float)\n",
    "df[\"SPEED\"] = df[\"SPEED\"].astype(float)\n",
    "\n",
    "# Save to Excel\n",
    "df.to_excel(output_excel, index=False)\n",
    "\n",
    "print(f\"Conversion successful! Data saved to {output_excel}\")"
   ]
  }
 ],
 "metadata": {
  "kernelspec": {
   "display_name": "new_version_py",
   "language": "python",
   "name": "python3"
  },
  "language_info": {
   "codemirror_mode": {
    "name": "ipython",
    "version": 3
   },
   "file_extension": ".py",
   "mimetype": "text/x-python",
   "name": "python",
   "nbconvert_exporter": "python",
   "pygments_lexer": "ipython3",
   "version": "3.12.9"
  }
 },
 "nbformat": 4,
 "nbformat_minor": 2
}
