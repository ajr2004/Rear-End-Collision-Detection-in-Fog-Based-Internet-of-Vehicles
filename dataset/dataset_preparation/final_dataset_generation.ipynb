{
 "cells": [
  {
   "cell_type": "code",
   "execution_count": 4,
   "metadata": {},
   "outputs": [],
   "source": [
    "import pandas as pd\n",
    "\n",
    "# Load the mixed dataset\n",
    "df = pd.read_csv(\"Dhaula_Kuan_mixed_dataset.csv\")\n",
    "panjagutta_list=[10001,10003,10007, 10005, 10004, 10006,10014,10019,10020,10021,10022,10024,10025,10027,10035,10037,10038,10039]\n",
    "Dhaula_Kuan_list=[10000,10002,10003,10007, 10005, 10004, 10006,10013,10014,10016,10017,10019,10020,10023,10024,10025,10027,10028,10030,10031,10032,10034,10075,10124,10127,]\n",
    "# 1. Number of Lane (single/multi lane) based on new conditions\n",
    "def get_lane_type(lane):\n",
    "    if isinstance(lane, str):\n",
    "        parts = lane.split('-')\n",
    "        # Check if the first part is a large number for single lane\n",
    "        if int(parts[0]) in Dhaula_Kuan_list :  # Adjust the list of numbers as needed\n",
    "            return 1  # Single lane\n",
    "        else:\n",
    "            return 2  # Multiple lane\n",
    "    return 2  # Default to multiple lane if the format is unexpected\n",
    "\n",
    "\n"
   ]
  },
  {
   "cell_type": "code",
   "execution_count": 5,
   "metadata": {},
   "outputs": [],
   "source": [
    "\n",
    "df['Number of Lanes'] = df['Lane'].apply(get_lane_type)\n",
    "\n",
    "# 1.5. Velocity of the Vehicle (speed)\n",
    "df['Velocity of vehicle'] = df['Speed'].apply(lambda x: 0.35 if x<= 50 else (0.65 if x <= 90 else 1))\n",
    "\n",
    "# 2. Breaking Capability\n",
    "df['Breaking capability'] = df['DriveState'].apply(lambda x: 0 if x == 'Default' else 1)\n",
    "\n",
    "# 3. Status of the Driver\n",
    "df['Status of driver'] = df['InteractionState'].apply(lambda x: 1 if x in ['Free'] else 2)\n",
    "\n",
    "# 4. Nature of the Environment\n",
    "df['Nature of environment'] = df['environment'].apply(lambda x: 1 if x == 1 else 2)\n",
    "\n",
    "# 5. Distance Between Vehicles (average of NetFollowingDistance and GrossFollowingDistance)\n",
    "df['Distance between vehicles'] = (df['GrossFollowingDistance'] + df['NetFollowingDistance']) / 2\n",
    "df['Distance between vehicles'] = df['Distance between vehicles'].apply(lambda x: 1 if x <= 5 else (0.5 if x <= 10 else 0))\n",
    "\n",
    "\n",
    "\n",
    "\n",
    "# 7. Create a new column for sum of selected features\n",
    "df['Sum'] = df[['Number of Lanes', 'Status of driver', 'Nature of environment', 'Velocity of vehicle', 'Distance between vehicles', 'Breaking capability']].sum(axis=1)\n",
    "\n",
    "# 8. Calculate the average sum across all rows for Collision threshold\n",
    "average_sum = df['Sum'].mean()\n",
    "\n",
    "# 9. Collision column (Y-Train)\n",
    "df['Collussion'] = df['Sum'].apply(lambda x: 1 if x >= average_sum else 0)\n",
    "\n",
    "# Select the final columns to save\n",
    "final_df = df[['Index', 'Lane', 'DriveState', 'GrossFollowingDistance', 'NetFollowingDistance', 'InteractionState', 'DelayTime', 'Speed', \n",
    "               'Number of Lanes', 'Status of driver', 'Nature of environment', 'Velocity of vehicle', 'Distance between vehicles', 'Breaking capability', 'Collussion']]\n",
    "\n",
    "final1_df=df[['Number of Lanes', 'Status of driver', 'Nature of environment', 'Velocity of vehicle', 'Distance between vehicles', 'Breaking capability', 'Collussion']]\n"
   ]
  },
  {
   "cell_type": "code",
   "execution_count": 6,
   "metadata": {},
   "outputs": [],
   "source": [
    "\n",
    "# Save the final dataset\n",
    "final_df.to_csv(\"Dhaula_Kuan_final_dataset_both_columns.csv\", index=False)\n",
    "final1_df.to_excel(\"final_Dhaula_Kuan_dataset.xlsx\", index=False)"
   ]
  }
 ],
 "metadata": {
  "kernelspec": {
   "display_name": "Python 3",
   "language": "python",
   "name": "python3"
  },
  "language_info": {
   "codemirror_mode": {
    "name": "ipython",
    "version": 3
   },
   "file_extension": ".py",
   "mimetype": "text/x-python",
   "name": "python",
   "nbconvert_exporter": "python",
   "pygments_lexer": "ipython3",
   "version": "3.11.11"
  }
 },
 "nbformat": 4,
 "nbformat_minor": 2
}
