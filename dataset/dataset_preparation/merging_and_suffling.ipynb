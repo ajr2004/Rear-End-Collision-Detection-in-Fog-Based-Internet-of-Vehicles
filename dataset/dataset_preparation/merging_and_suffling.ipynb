{
 "cells": [
  {
   "cell_type": "code",
   "execution_count": 1,
   "metadata": {},
   "outputs": [],
   "source": [
    "import pandas as pd\n",
    "\n",
    "# Load datasets\n",
    "\n",
    "df1 = pd.read_excel(\"Dhaula Kuan_without_fog.xlsx\")\n",
    "df2 = pd.read_excel(\"Dhaula Kuan_with_fog.xlsx\")    #place the files according to the environment\n",
    "\n",
    "# Clean the column names by stripping spaces\n",
    "df1.columns = df1.columns.str.strip()\n",
    "df2.columns = df2.columns.str.strip()\n",
    "\n",
    "#adding environment\n",
    "df1['environment'] = 1\n",
    "df2['environment'] = 2\n",
    "\n",
    "# Combine datasets row-wise\n",
    "combined_df = pd.concat([df1, df2], ignore_index=True)\n",
    "\n",
    "# Convert 'Lane' column to string to avoid date interpretation\n",
    "combined_df['Lane'] = combined_df['Lane'].astype(str)\n",
    "\n",
    "# Shuffle the combined dataset\n",
    "shuffled_df = combined_df.sample(frac=1, random_state=42).reset_index(drop=True)\n",
    "\n",
    "# Add a new index column\n",
    "shuffled_df.insert(0, 'Index', range(1, len(shuffled_df) + 1))\n",
    "\n",
    "# Save the mixed dataset with the new index as CSV\n",
    "shuffled_df.to_csv(\"Dhaula_Kuan_mixed_dataset.csv\", index=False)\n"
   ]
  }
 ],
 "metadata": {
  "kernelspec": {
   "display_name": "conda_with_gpu_power",
   "language": "python",
   "name": "python3"
  },
  "language_info": {
   "codemirror_mode": {
    "name": "ipython",
    "version": 3
   },
   "file_extension": ".py",
   "mimetype": "text/x-python",
   "name": "python",
   "nbconvert_exporter": "python",
   "pygments_lexer": "ipython3",
   "version": "3.10.14"
  }
 },
 "nbformat": 4,
 "nbformat_minor": 2
}
