{
 "cells": [
  {
   "cell_type": "code",
   "execution_count": 1,
   "metadata": {},
   "outputs": [
    {
     "name": "stdout",
     "output_type": "stream",
     "text": [
      "Sampled data saved to 'output.csv'\n"
     ]
    }
   ],
   "source": [
    "import pandas as pd\n",
    "\n",
    "# Load the two Excel files\n",
    "file1 = \"final_Dhaula_Kuan_dataset.xlsx\"  \n",
    "file2 = \"final_panjagutta_dataset.xlsx\" \n",
    "\n",
    "df1 = pd.read_excel(file1)\n",
    "df2 = pd.read_excel(file2)\n",
    "\n",
    "# Concatenate both DataFrames\n",
    "combined_df = pd.concat([df1, df2], ignore_index=True)\n",
    "\n",
    "# Randomly select 800,000 rows\n",
    "sampled_df = combined_df.sample(n=400000, random_state=42)\n",
    "\n",
    "# Save to a CSV file\n",
    "sampled_df.to_csv(\"final_dataset_compressed.csv\", index=False)\n",
    "\n",
    "print(\"Sampled data saved to 'output.csv'\")"
   ]
  }
 ],
 "metadata": {
  "kernelspec": {
   "display_name": "conda_with_gpu_power",
   "language": "python",
   "name": "python3"
  },
  "language_info": {
   "codemirror_mode": {
    "name": "ipython",
    "version": 3
   },
   "file_extension": ".py",
   "mimetype": "text/x-python",
   "name": "python",
   "nbconvert_exporter": "python",
   "pygments_lexer": "ipython3",
   "version": "3.10.14"
  }
 },
 "nbformat": 4,
 "nbformat_minor": 2
}
