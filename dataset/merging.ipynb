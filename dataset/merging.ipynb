{
 "cells": [
  {
   "cell_type": "code",
   "execution_count": 2,
   "metadata": {},
   "outputs": [],
   "source": [
    "import pandas as pd\n",
    "\n",
    "file1 = \"dataset_preparation/final_Dhaula_Kuan_dataset.xlsx\"\n",
    "file2 = \"dataset_preparation/final_panjagutta_dataset.xlsx\"\n",
    "\n",
    "df1 = pd.read_excel(file1)\n",
    "df2 = pd.read_excel(file2)"
   ]
  },
  {
   "cell_type": "code",
   "execution_count": 3,
   "metadata": {},
   "outputs": [
    {
     "name": "stdout",
     "output_type": "stream",
     "text": [
      "Count of 1: 383848, Count of 0: 419404, Min count: 383848\n"
     ]
    }
   ],
   "source": [
    "\n",
    "combined_df = pd.concat([df1, df2], ignore_index=True).sample(frac=1, random_state=42)  # Shuffle after merging\n",
    "\n",
    "count_1 = combined_df[combined_df.iloc[:, -1] == 1].shape[0]\n",
    "count_0 = combined_df[combined_df.iloc[:, -1] == 0].shape[0]\n",
    "\n",
    "min_count = min(count_1, count_0)\n",
    "print(f\"Count of 1: {count_1}, Count of 0: {count_0}, Min count: {min_count}\")"
   ]
  },
  {
   "cell_type": "code",
   "execution_count": 4,
   "metadata": {},
   "outputs": [
    {
     "name": "stdout",
     "output_type": "stream",
     "text": [
      "Shape of df_1: (383848, 7), Shape of df_0: (383848, 7)\n"
     ]
    }
   ],
   "source": [
    "\n",
    "df_1 = combined_df[combined_df.iloc[:, -1] == 1].sample(n=min_count, random_state=42)\n",
    "df_0 = combined_df[combined_df.iloc[:, -1] == 0].sample(n=min_count, random_state=42)\n",
    "print(f\"Shape of df_1: {df_1.shape}, Shape of df_0: {df_0.shape}\")"
   ]
  },
  {
   "cell_type": "code",
   "execution_count": 5,
   "metadata": {},
   "outputs": [],
   "source": [
    "# taking only 200k samples\n",
    "df_1 = df_1.sample(n=200000, random_state=42)\n",
    "df_0 = df_0.sample(n=200000, random_state=42)"
   ]
  },
  {
   "cell_type": "code",
   "execution_count": 6,
   "metadata": {},
   "outputs": [
    {
     "name": "stdout",
     "output_type": "stream",
     "text": [
      "Shape of balanced_df: (400000, 7)\n",
      "Collussion\n",
      "1    200000\n",
      "0    200000\n",
      "Name: count, dtype: int64\n"
     ]
    }
   ],
   "source": [
    "\n",
    "balanced_df = pd.concat([df_1, df_0], ignore_index=True).sample(n=400000, random_state=42)  # Shuffle after balancing\n",
    "print(f\"Shape of balanced_df: {balanced_df.shape}\")\n",
    "print(balanced_df[\"Collussion\"].value_counts())"
   ]
  },
  {
   "cell_type": "code",
   "execution_count": 7,
   "metadata": {},
   "outputs": [
    {
     "name": "stdout",
     "output_type": "stream",
     "text": [
      "Balanced and shuffled dataset saved to 'final_dataset.csv'\n"
     ]
    }
   ],
   "source": [
    "\n",
    "balanced_df.to_csv(\"final_dataset.csv\", index=False)\n",
    "\n",
    "print(\"Balanced and shuffled dataset saved to 'final_dataset.csv'\")"
   ]
  },
  {
   "cell_type": "code",
   "execution_count": 8,
   "metadata": {},
   "outputs": [
    {
     "name": "stdout",
     "output_type": "stream",
     "text": [
      "Collussion\n",
      "1    200000\n",
      "0    200000\n",
      "Name: count, dtype: int64\n"
     ]
    }
   ],
   "source": [
    "import pandas as pd\n",
    "df = pd.read_csv('final_dataset.csv')  # Replace with your dataset path\n",
    "\n",
    "y = df['Collussion']\n",
    "collusion_counts = df['Collussion'].value_counts()\n",
    "\n",
    "print(collusion_counts)"
   ]
  },
  {
   "cell_type": "markdown",
   "metadata": {},
   "source": [
    "# Saving for Preliminary Dataset"
   ]
  },
  {
   "cell_type": "code",
   "execution_count": 9,
   "metadata": {},
   "outputs": [
    {
     "name": "stdout",
     "output_type": "stream",
     "text": [
      "Shape of balanced_df: (40000, 7)\n",
      "Collussion\n",
      "0    20000\n",
      "1    20000\n",
      "Name: count, dtype: int64\n"
     ]
    }
   ],
   "source": [
    "# taking only 200k samples\n",
    "df_1 = df_1.sample(n=20000, random_state=42)\n",
    "df_0 = df_0.sample(n=20000, random_state=42)\n",
    "\n",
    "balanced_df = pd.concat([df_1, df_0], ignore_index=True).sample(n=40000, random_state=42)  # Shuffle after balancing\n",
    "print(f\"Shape of balanced_df: {balanced_df.shape}\")\n",
    "print(balanced_df[\"Collussion\"].value_counts())"
   ]
  },
  {
   "cell_type": "code",
   "execution_count": 10,
   "metadata": {},
   "outputs": [
    {
     "name": "stdout",
     "output_type": "stream",
     "text": [
      "Balanced and shuffled dataset saved to 'preliminary_dataset.csv'\n"
     ]
    }
   ],
   "source": [
    "\n",
    "balanced_df.to_csv(\"preliminary_dataset.csv\", index=False)\n",
    "\n",
    "print(\"Balanced and shuffled dataset saved to 'preliminary_dataset.csv'\")"
   ]
  }
 ],
 "metadata": {
  "kernelspec": {
   "display_name": "conda_env_for_project",
   "language": "python",
   "name": "python3"
  },
  "language_info": {
   "codemirror_mode": {
    "name": "ipython",
    "version": 3
   },
   "file_extension": ".py",
   "mimetype": "text/x-python",
   "name": "python",
   "nbconvert_exporter": "python",
   "pygments_lexer": "ipython3",
   "version": "3.11.11"
  }
 },
 "nbformat": 4,
 "nbformat_minor": 2
}
