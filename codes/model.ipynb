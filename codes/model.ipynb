{
  "cells": [
    {
      "cell_type": "code",
      "execution_count": 1,
      "metadata": {
        "id": "WBg6_xpxyjKx"
      },
      "outputs": [],
      "source": [
        "import pandas as pd\n",
        "import numpy as np\n",
        "from sklearn.preprocessing import MinMaxScaler\n",
        "from sklearn.model_selection import train_test_split\n",
        "import tensorflow as tf\n",
        "from tensorflow.keras.models import Sequential\n",
        "from tensorflow.keras.layers import Dense, Dropout,Bidirectional, LSTM, SimpleRNN\n",
        "from tensorflow.keras.optimizers import Adam\n",
        "from sklearn.model_selection import train_test_split\n",
        "from tensorflow.keras.layers import GRU"
      ]
    },
    {
      "cell_type": "code",
      "execution_count": 2,
      "metadata": {
        "id": "m1N911BF9TJU"
      },
      "outputs": [],
      "source": [
        "# Load the dataset\n",
        "df = pd.read_csv('..//dataset//final_dataset_compressed.csv')  # Replace with your dataset path\n",
        "\n",
        "# Separating features and target\n",
        "X = df[['Number of Lanes', 'Status of driver', 'Nature of environment', 'Velocity of vehicle', 'Distance between vehicles', 'Breaking capability']]\n",
        "y = df['Collussion']\n",
        "\n",
        "# Normalize the features\n",
        "scaler = MinMaxScaler()\n",
        "X_scaled = scaler.fit_transform(X)\n",
        "# X_scaled = X\n",
        "\n",
        "# Reshape input to be 3D [samples, timesteps, features] for LSTM\n",
        "X_scaled = np.reshape(X_scaled, (X_scaled.shape[0], 1, X_scaled.shape[1]))\n",
        "\n",
        "# Split into training and test sets\n",
        "X_train, X_test, y_train, y_test = train_test_split(X_scaled, y, test_size=0.2, random_state=42)\n"
      ]
    },
    {
      "cell_type": "code",
      "execution_count": 3,
      "metadata": {
        "colab": {
          "base_uri": "https://localhost:8080/"
        },
        "id": "Gq7xpL4V9cKQ",
        "outputId": "4c0dfa55-3f2e-4a52-fefe-5eab63dc38ca"
      },
      "outputs": [
        {
          "name": "stdout",
          "output_type": "stream",
          "text": [
            "(320000, 1, 6) (320000,) (400000, 1, 6)\n"
          ]
        }
      ],
      "source": [
        "print(X_train.shape, y_train.shape,X_scaled.shape)"
      ]
    },
    {
      "cell_type": "code",
      "execution_count": 4,
      "metadata": {
        "id": "idsdruGv9d_t"
      },
      "outputs": [],
      "source": [
        "from tensorflow.keras.layers import BatchNormalization\n",
        "from tensorflow.keras.regularizers import l2\n",
        "\n",
        "def build_optimized_rnn_bi_lstm():\n",
        "    model = Sequential()\n",
        "\n",
        "    # Deep RNN layers\n",
        "    model.add(SimpleRNN(units=100, return_sequences=True,\n",
        "                        input_shape=(X_train.shape[1], X_train.shape[2]),\n",
        "                        kernel_regularizer=l2(0.01)))\n",
        "    model.add(BatchNormalization())\n",
        "    model.add(Dropout(0.3))\n",
        "    model.add(SimpleRNN(units=100, return_sequences=True, kernel_regularizer=l2(0.01)))\n",
        "    model.add(BatchNormalization())\n",
        "    model.add(Dropout(0.3))\n",
        "\n",
        "    # Bidirectional LSTM layers\n",
        "    model.add(Bidirectional(LSTM(units=100, return_sequences=True, kernel_regularizer=l2(0.01))))\n",
        "    model.add(BatchNormalization())\n",
        "    model.add(Dropout(0.3))\n",
        "    model.add(Bidirectional(LSTM(units=100, return_sequences=True, kernel_regularizer=l2(0.01))))\n",
        "    model.add(BatchNormalization())\n",
        "    model.add(Dropout(0.3))\n",
        "    model.add(Bidirectional(LSTM(units=100, kernel_regularizer=l2(0.01))))\n",
        "    model.add(BatchNormalization())\n",
        "    model.add(Dropout(0.3))\n",
        "\n",
        "    # Output layer\n",
        "    model.add(Dense(units=1, activation='sigmoid'))\n",
        "\n",
        "    # Compile the model with Adam optimizer (adjust learning rate)\n",
        "    model.compile(optimizer=Adam(learning_rate=0.0005), loss='binary_crossentropy', metrics=['accuracy'])\n",
        "\n",
        "    return model"
      ]
    },
    {
      "cell_type": "code",
      "execution_count": 5,
      "metadata": {
        "colab": {
          "background_save": true,
          "base_uri": "https://localhost:8080/"
        },
        "id": "nLV3y0Et9jAk",
        "outputId": "70a345c5-2f28-4e79-b4bc-6e8b4f768d10"
      },
      "outputs": [
        {
          "name": "stdout",
          "output_type": "stream",
          "text": [
            "Epoch 1/5\n",
            "4000/4000 [==============================] - 190s 42ms/step - loss: 0.8081 - accuracy: 0.9644 - val_loss: 0.0575 - val_accuracy: 0.9782\n",
            "Epoch 2/5\n",
            "4000/4000 [==============================] - 164s 41ms/step - loss: 0.0821 - accuracy: 0.9719 - val_loss: 0.0653 - val_accuracy: 0.9810\n",
            "Epoch 3/5\n",
            "4000/4000 [==============================] - 162s 41ms/step - loss: 0.0797 - accuracy: 0.9730 - val_loss: 0.0574 - val_accuracy: 0.9815\n",
            "Epoch 4/5\n",
            "4000/4000 [==============================] - 224s 56ms/step - loss: 0.0761 - accuracy: 0.9742 - val_loss: 0.0606 - val_accuracy: 0.9775\n",
            "Epoch 5/5\n",
            "4000/4000 [==============================] - 309s 77ms/step - loss: 0.0743 - accuracy: 0.9751 - val_loss: 0.0542 - val_accuracy: 0.9798\n"
          ]
        }
      ],
      "source": [
        "optimized_model = build_optimized_rnn_bi_lstm()\n",
        "\n",
        "# Train the model\n",
        "optimized_history = optimized_model.fit(X_train, y_train, epochs=5, batch_size=64, validation_split=0.2, verbose=1)"
      ]
    },
    {
      "cell_type": "code",
      "execution_count": 6,
      "metadata": {
        "id": "8dEJxbNb9l5b"
      },
      "outputs": [],
      "source": [
        "import numpy as np\n",
        "\n",
        "# Set numpy to display full float numbers\n",
        "np.set_printoptions(suppress=True, precision=10)"
      ]
    },
    {
      "cell_type": "code",
      "execution_count": 7,
      "metadata": {
        "colab": {
          "base_uri": "https://localhost:8080/"
        },
        "id": "UM0OpBvi9n2K",
        "outputId": "b1533b7f-b008-4791-b10c-b802abd1fcbc"
      },
      "outputs": [
        {
          "name": "stdout",
          "output_type": "stream",
          "text": [
            "2500/2500 [==============================] - 90s 32ms/step - loss: 0.0542 - accuracy: 0.9803\n",
            "Test Accuracy: 0.98\n"
          ]
        }
      ],
      "source": [
        "# Evaluate the model\n",
        "loss, accuracy =optimized_model.evaluate(X_test, y_test, verbose=1)\n",
        "print(f'Test Accuracy: {accuracy:.2f}')"
      ]
    },
    {
      "cell_type": "code",
      "execution_count": 8,
      "metadata": {
        "colab": {
          "base_uri": "https://localhost:8080/"
        },
        "id": "GDo1JfyI9pjo",
        "outputId": "c92be23f-da3e-45bd-d706-51c70958253f"
      },
      "outputs": [
        {
          "name": "stdout",
          "output_type": "stream",
          "text": [
            "2500/2500 [==============================] - 78s 27ms/step\n",
            "Mean Squared Error (MSE): 0.0135928401723504\n",
            "Root Mean Squared Error (RMSE): 0.1165883363478114\n"
          ]
        }
      ],
      "source": [
        "\n",
        "from sklearn.metrics import mean_squared_error\n",
        "import numpy as np\n",
        "\n",
        "# Make predictions\n",
        "y_pred = optimized_model.predict(X_test)\n",
        "\n",
        "# Calculate MSE\n",
        "mse = mean_squared_error(y_test, y_pred)\n",
        "print(f'Mean Squared Error (MSE): {mse:.16f}')\n",
        "\n",
        "# Calculate RMSE\n",
        "rmse = np.sqrt(mse)\n",
        "print(f'Root Mean Squared Error (RMSE): {rmse:.16f}')"
      ]
    },
    {
      "cell_type": "code",
      "execution_count": 9,
      "metadata": {
        "colab": {
          "base_uri": "https://localhost:8080/",
          "height": 359
        },
        "id": "zhfBQuXz9r0p",
        "outputId": "5bbf9441-4a42-456f-f825-70f32f281f14"
      },
      "outputs": [
        {
          "ename": "NameError",
          "evalue": "name 'history' is not defined",
          "output_type": "error",
          "traceback": [
            "\u001b[1;31m---------------------------------------------------------------------------\u001b[0m",
            "\u001b[1;31mNameError\u001b[0m                                 Traceback (most recent call last)",
            "Cell \u001b[1;32mIn[9], line 5\u001b[0m\n\u001b[0;32m      3\u001b[0m plt\u001b[38;5;241m.\u001b[39mfigure(figsize\u001b[38;5;241m=\u001b[39m(\u001b[38;5;241m10\u001b[39m,\u001b[38;5;241m5\u001b[39m))\n\u001b[0;32m      4\u001b[0m plt\u001b[38;5;241m.\u001b[39msubplot(\u001b[38;5;241m1\u001b[39m,\u001b[38;5;241m2\u001b[39m,\u001b[38;5;241m1\u001b[39m)\n\u001b[1;32m----> 5\u001b[0m plt\u001b[38;5;241m.\u001b[39mplot(\u001b[43mhistory\u001b[49m\u001b[38;5;241m.\u001b[39mhistory[\u001b[38;5;124m'\u001b[39m\u001b[38;5;124maccuracy\u001b[39m\u001b[38;5;124m'\u001b[39m])\n\u001b[0;32m      6\u001b[0m plt\u001b[38;5;241m.\u001b[39mplot(history\u001b[38;5;241m.\u001b[39mhistory[\u001b[38;5;124m'\u001b[39m\u001b[38;5;124mval_accuracy\u001b[39m\u001b[38;5;124m'\u001b[39m])\n\u001b[0;32m      7\u001b[0m plt\u001b[38;5;241m.\u001b[39mtitle(\u001b[38;5;124m'\u001b[39m\u001b[38;5;124mModel accuracy\u001b[39m\u001b[38;5;124m'\u001b[39m)\n",
            "\u001b[1;31mNameError\u001b[0m: name 'history' is not defined"
          ]
        },
        {
          "data": {
            "image/png": "[encoded data removed]",
            "text/plain": [
              "<Figure size 1000x500 with 1 Axes>"
            ]
          },
          "metadata": {},
          "output_type": "display_data"
        }
      ],
      "source": [
        "#visualizing the loss and accuracy\n",
        "import matplotlib.pyplot as plt\n",
        "plt.figure(figsize=(10,5))\n",
        "plt.subplot(1,2,1)\n",
        "plt.plot(history.history['accuracy'])\n",
        "plt.plot(history.history['val_accuracy'])\n",
        "plt.title('Model accuracy')\n",
        "plt.ylabel('accuracy')\n",
        "plt.xlabel('epoch')\n",
        "plt.legend(['train','validation'],loc='upper left')\n",
        "\n",
        "plt.subplot(1,2,2)\n",
        "plt.plot(history.history['loss'])\n",
        "plt.plot(history.history['val_loss'])\n",
        "plt.title('Model loss')\n",
        "plt.ylabel('loss')\n",
        "plt.xlabel('epoch')\n",
        "plt.legend(['train','validation'],loc='upper left')\n",
        "plt.show()\n"
      ]
    },
    {
      "cell_type": "code",
      "execution_count": null,
      "metadata": {
        "id": "v0Fxr-id9ttP"
      },
      "outputs": [],
      "source": []
    }
  ],
  "metadata": {
    "colab": {
      "provenance": []
    },
    "kernelspec": {
      "display_name": "gpu_compute",
      "language": "python",
      "name": "python3"
    },
    "language_info": {
      "codemirror_mode": {
        "name": "ipython",
        "version": 3
      },
      "file_extension": ".py",
      "mimetype": "text/x-python",
      "name": "python",
      "nbconvert_exporter": "python",
      "pygments_lexer": "ipython3",
      "version": "3.9.21"
    }
  },
  "nbformat": 4,
  "nbformat_minor": 0
}
