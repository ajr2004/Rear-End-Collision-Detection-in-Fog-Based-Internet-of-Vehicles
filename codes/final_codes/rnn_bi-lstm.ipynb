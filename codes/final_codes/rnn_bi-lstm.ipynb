{
 "cells": [
  {
   "cell_type": "code",
   "execution_count": 2,
   "metadata": {},
   "outputs": [],
   "source": [
    "import pandas as pd\n",
    "import numpy as np\n",
    "from sklearn.preprocessing import MinMaxScaler,RobustScaler,StandardScaler\n",
    "from sklearn.model_selection import train_test_split\n",
    "from sklearn.model_selection import train_test_split\n",
    "\n",
    "import tensorflow as tf\n",
    "from tensorflow.keras.models import Sequential\n",
    "from tensorflow.keras.layers import Dense, Dropout,Bidirectional, LSTM, SimpleRNN,GRU,Input\n",
    "from tensorflow.keras.optimizers import Adam\n",
    "from tensorflow.keras.callbacks import EarlyStopping, ModelCheckpoint\n"
   ]
  },
  {
   "cell_type": "code",
   "execution_count": 3,
   "metadata": {},
   "outputs": [],
   "source": [
    "# Load the dataset\n",
    "df = pd.read_csv('..//..//dataset//final_dataset.csv')  # Replace with your dataset path\n",
    "# df=pd.read_excel('..//..//dataset//Dataset_IoV.xlsx')\n",
    "\n",
    "# Separating features and target\n",
    "X = df[['Number of Lanes', 'Status of driver', 'Nature of environment', 'Velocity of vehicle', 'Distance between vehicles', 'Breaking capability']]\n",
    "y = df['Collussion']\n",
    "# scaler=RobustScaler()\n",
    "# X_scaled = scaler.fit_transform(X)\n",
    "\n",
    "scaler = StandardScaler()\n",
    "X_scaled = scaler.fit_transform(X)\n",
    "# X_scaled = X\n",
    "\n",
    "# Reshape input to be 3D [samples, timesteps, features] for LSTM\n",
    "X_scaled = np.reshape(X_scaled, (X_scaled.shape[0], 1, X_scaled.shape[1]))\n",
    "\n",
    "# Split into training and test sets\n",
    "X_train, X_test, y_train, y_test = train_test_split(X_scaled, y, test_size=0.2, random_state=42)\n"
   ]
  },
  {
   "cell_type": "code",
   "execution_count": 4,
   "metadata": {},
   "outputs": [
    {
     "name": "stdout",
     "output_type": "stream",
     "text": [
      "(320000, 1, 6) (320000,) (400000, 1, 6)\n"
     ]
    }
   ],
   "source": [
    "print(X_train.shape, y_train.shape,X_scaled.shape)"
   ]
  },
  {
   "cell_type": "markdown",
   "metadata": {},
   "source": [
    "# Model"
   ]
  },
  {
   "cell_type": "code",
   "execution_count": 5,
   "metadata": {},
   "outputs": [],
   "source": [
    "def build_deep_rnn_bi_lstm():\n",
    "    model = Sequential()\n",
    "    \n",
    "    # Add multiple SimpleRNN layers for Deep RNN\n",
    "    model.add(Input(shape=(X_train.shape[1], X_train.shape[2])))\n",
    "    model.add(SimpleRNN(units=50, return_sequences=True))\n",
    "    model.add(Dropout(0.1))\n",
    "    model.add(SimpleRNN(units=50, return_sequences=True))\n",
    "    model.add(Dropout(0.1))\n",
    "\n",
    "    # Add multiple Bidirectional LSTM layers\n",
    "    model.add(Bidirectional(LSTM(units=50, return_sequences=True)))\n",
    "    model.add(Dropout(0.1))\n",
    "    model.add(Bidirectional(LSTM(units=50, return_sequences=True)))\n",
    "    model.add(Dropout(0.1))\n",
    "    model.add(Bidirectional(LSTM(units=50)))\n",
    "    model.add(Dropout(0.1))\n",
    "\n",
    "    # Output layer\n",
    "    model.add(Dense(units=1, activation='sigmoid'))\n",
    "\n",
    "    # Compile the model\n",
    "    model.compile(optimizer=Adam(learning_rate=0.001), loss='binary_crossentropy', metrics=['mse', 'mae'])\n",
    "\n",
    "    return model\n"
   ]
  },
  {
   "cell_type": "code",
   "execution_count": 6,
   "metadata": {},
   "outputs": [
    {
     "name": "stdout",
     "output_type": "stream",
     "text": [
      "Epoch 1/5\n",
      "\u001b[1m2000/2000\u001b[0m \u001b[32m━━━━━━━━━━━━━━━━━━━━\u001b[0m\u001b[37m\u001b[0m \u001b[1m38s\u001b[0m 11ms/step - loss: 0.0563 - mae: 0.0422 - mse: 0.0184 - val_loss: 3.3755e-06 - val_mae: 3.3740e-06 - val_mse: 1.2233e-09\n",
      "Epoch 2/5\n",
      "\u001b[1m2000/2000\u001b[0m \u001b[32m━━━━━━━━━━━━━━━━━━━━\u001b[0m\u001b[37m\u001b[0m \u001b[1m22s\u001b[0m 11ms/step - loss: 1.0209e-04 - mae: 4.5075e-05 - mse: 2.0517e-05 - val_loss: 2.8452e-06 - val_mae: 2.8503e-06 - val_mse: 1.3472e-11\n",
      "Epoch 3/5\n",
      "\u001b[1m2000/2000\u001b[0m \u001b[32m━━━━━━━━━━━━━━━━━━━━\u001b[0m\u001b[37m\u001b[0m \u001b[1m22s\u001b[0m 11ms/step - loss: 6.4216e-05 - mae: 2.7884e-05 - mse: 1.0143e-05 - val_loss: 1.4317e-06 - val_mae: 1.4302e-06 - val_mse: 2.6255e-12\n",
      "Epoch 4/5\n",
      "\u001b[1m2000/2000\u001b[0m \u001b[32m━━━━━━━━━━━━━━━━━━━━\u001b[0m\u001b[37m\u001b[0m \u001b[1m22s\u001b[0m 11ms/step - loss: 5.3791e-05 - mae: 7.1612e-06 - mse: 4.0063e-06 - val_loss: 8.3147e-07 - val_mae: 8.2957e-07 - val_mse: 9.3912e-13\n",
      "Epoch 5/5\n",
      "\u001b[1m2000/2000\u001b[0m \u001b[32m━━━━━━━━━━━━━━━━━━━━\u001b[0m\u001b[37m\u001b[0m \u001b[1m23s\u001b[0m 11ms/step - loss: 5.8839e-05 - mae: 2.0847e-05 - mse: 1.3150e-05 - val_loss: 2.6966e-06 - val_mae: 2.6987e-06 - val_mse: 8.8987e-12\n"
     ]
    }
   ],
   "source": [
    "# Early stopping callback\n",
    "early_stopping = EarlyStopping(\n",
    "    monitor='mse',  \n",
    "    patience=3,   \n",
    "    restore_best_weights=True, \n",
    "    verbose=1\n",
    ")\n",
    "# Model checkpoint callback\n",
    "best_weights_filepath ='..//models//best_model.keras'\n",
    "\n",
    "model_checkpoint = ModelCheckpoint(\n",
    "    best_weights_filepath,  \n",
    "    monitor='val_mse',  \n",
    "    mode='min',       \n",
    "    save_best_only=True,   \n",
    "    verbose=1\n",
    ")\n",
    "\n",
    "# Instantiate and train the model\n",
    "model = build_deep_rnn_bi_lstm()\n",
    "history = model.fit(X_train, y_train, epochs=5, batch_size=128, validation_split=0.2, verbose=1,   \n",
    "#  callbacks=[model_checkpoint,early_stopping]\n",
    ")"
   ]
  },
  {
   "cell_type": "code",
   "execution_count": 7,
   "metadata": {},
   "outputs": [],
   "source": [
    "# import numpy as np\n",
    "\n",
    "# # Set numpy to display full float numbers\n",
    "# np.set_printoptions(suppress=True, precision=10)"
   ]
  },
  {
   "cell_type": "code",
   "execution_count": 8,
   "metadata": {},
   "outputs": [],
   "source": [
    "# results = model.evaluate(X_test, y_test, verbose=1)\n",
    "# loss, mse, mae = results  # Unpack all the returned metrics\n",
    "# print(f'Loss: {loss:.4f}')\n",
    "# print(f'Mean Squared Error (MSE): {mse:.4f}')\n",
    "# print(f'Mean Absolute Error (MAE): {mae:.4f}')\n"
   ]
  },
  {
   "cell_type": "code",
   "execution_count": 9,
   "metadata": {},
   "outputs": [
    {
     "name": "stdout",
     "output_type": "stream",
     "text": [
      "\u001b[1m2500/2500\u001b[0m \u001b[32m━━━━━━━━━━━━━━━━━━━━\u001b[0m\u001b[37m\u001b[0m \u001b[1m15s\u001b[0m 5ms/step\n",
      "Mean Squared Error (MSE): 0.0000000000088626\n",
      "Root Mean Squared Error (RMSE): 0.0000029770105952\n"
     ]
    }
   ],
   "source": [
    "\n",
    "from sklearn.metrics import mean_squared_error\n",
    "import numpy as np\n",
    "\n",
    "# Make predictions\n",
    "y_pred = model.predict(X_test)\n",
    "\n",
    "# Calculate MSE\n",
    "mse = mean_squared_error(y_test, y_pred)\n",
    "print(f'Mean Squared Error (MSE): {mse:.16f}')\n",
    "\n",
    "# Calculate RMSE\n",
    "rmse = np.sqrt(mse)\n",
    "print(f'Root Mean Squared Error (RMSE): {rmse:.16f}')"
   ]
  },
  {
   "cell_type": "code",
   "execution_count": 10,
   "metadata": {},
   "outputs": [
    {
     "name": "stdout",
     "output_type": "stream",
     "text": [
      "[[1.4188697e-06]\n",
      " [9.9999553e-01]\n",
      " [1.4188697e-06]\n",
      " ...\n",
      " [9.9999553e-01]\n",
      " [1.3827974e-06]\n",
      " [9.9999613e-01]]\n",
      "[1.4188697e-06 9.9999553e-01 1.4188697e-06 ... 9.9999553e-01 1.3827974e-06\n",
      " 9.9999613e-01]\n"
     ]
    }
   ],
   "source": [
    "print(y_pred)\n",
    "y_pred=y_pred.flatten()\n",
    "print(y_pred)"
   ]
  },
  {
   "cell_type": "code",
   "execution_count": 11,
   "metadata": {},
   "outputs": [
    {
     "name": "stdout",
     "output_type": "stream",
     "text": [
      "Accuracy: 1.0000000000000000\n"
     ]
    }
   ],
   "source": [
    "# accuracy\n",
    "y_pred = np.round(y_pred)\n",
    "accuracy = np.mean(y_test == y_pred)\n",
    "print(f'Accuracy: {accuracy:.16f}')"
   ]
  },
  {
   "cell_type": "code",
   "execution_count": 12,
   "metadata": {},
   "outputs": [
    {
     "name": "stdout",
     "output_type": "stream",
     "text": [
      "Actual: ones=39866, zeros=40134\n",
      "Predicted: ones=39866, zeros=40134\n"
     ]
    }
   ],
   "source": [
    "ones_count_actual = np.count_nonzero(y_test)\n",
    "zeros_count_actual = len(y_test) - ones_count_actual\n",
    "\n",
    "ones_count_predicted = np.count_nonzero(y_pred)\n",
    "zeros_count_predicted = len(y_pred) - ones_count_predicted\n",
    "\n",
    "print(f'Actual: ones={ones_count_actual}, zeros={zeros_count_actual}')\n",
    "print(f'Predicted: ones={ones_count_predicted}, zeros={zeros_count_predicted}')"
   ]
  },
  {
   "cell_type": "code",
   "execution_count": 13,
   "metadata": {},
   "outputs": [],
   "source": [
    "# import matplotlib.pyplot as plt\n",
    "\n",
    "# # Visualizing the loss, MSE, and MAE\n",
    "# plt.figure(figsize=(15, 5))\n",
    "\n",
    "# # Loss plot\n",
    "# plt.subplot(1, 3, 1)\n",
    "# plt.plot(history.history['loss'], label='Train Loss')\n",
    "# plt.plot(history.history['val_loss'], label='Validation Loss')\n",
    "# plt.title('Model Loss')\n",
    "# plt.ylabel('Loss')\n",
    "# plt.xlabel('Epoch')\n",
    "# plt.legend(loc='upper right')\n",
    "\n",
    "# # MSE plot\n",
    "# plt.subplot(1, 3, 2)\n",
    "# plt.plot(history.history['mse'], label='Train MSE')\n",
    "# plt.plot(history.history['val_mse'], label='Validation MSE')\n",
    "# plt.title('Mean Squared Error')\n",
    "# plt.ylabel('MSE')\n",
    "# plt.xlabel('Epoch')\n",
    "# plt.legend(loc='upper right')\n",
    "\n",
    "# # MAE plot\n",
    "# plt.subplot(1, 3, 3)\n",
    "# plt.plot(history.history['mae'], label='Train MAE')\n",
    "# plt.plot(history.history['val_mae'], label='Validation MAE')\n",
    "# plt.title('Mean Absolute Error')\n",
    "# plt.ylabel('MAE')\n",
    "# plt.xlabel('Epoch')\n",
    "# plt.legend(loc='upper right')\n",
    "\n",
    "# plt.tight_layout()\n",
    "# plt.show()\n"
   ]
  },
  {
   "cell_type": "code",
   "execution_count": 14,
   "metadata": {},
   "outputs": [],
   "source": [
    "#saving the model\n",
    "# model.save('..//models//deep_rnn_bi_lstm_updated_1.keras')  # Replace with your model path"
   ]
  }
 ],
 "metadata": {
  "kernelspec": {
   "display_name": "conda_env_for_project",
   "language": "python",
   "name": "python3"
  },
  "language_info": {
   "codemirror_mode": {
    "name": "ipython",
    "version": 3
   },
   "file_extension": ".py",
   "mimetype": "text/x-python",
   "name": "python",
   "nbconvert_exporter": "python",
   "pygments_lexer": "ipython3",
   "version": "3.11.11"
  }
 },
 "nbformat": 4,
 "nbformat_minor": 2
}
