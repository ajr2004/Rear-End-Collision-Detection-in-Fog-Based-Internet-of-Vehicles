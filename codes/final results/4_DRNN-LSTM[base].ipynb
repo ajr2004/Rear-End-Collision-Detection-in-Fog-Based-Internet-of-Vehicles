{
 "cells": [
  {
   "cell_type": "code",
   "execution_count": 2,
   "metadata": {},
   "outputs": [],
   "source": [
    "import pandas as pd\n",
    "import numpy as np\n",
    "from sklearn.model_selection import train_test_split\n",
    "from sklearn.model_selection import train_test_split\n",
    "from sklearn.preprocessing import StandardScaler\n",
    "import tensorflow as tf\n",
    "from tensorflow.keras.models import Sequential\n",
    "from tensorflow.keras.layers import Dense, Dropout,Bidirectional, LSTM, SimpleRNN,GRU,Input\n",
    "from tensorflow.keras.optimizers import Adam\n",
    "from tensorflow.keras.callbacks import EarlyStopping, ModelCheckpoint\n"
   ]
  },
  {
   "cell_type": "code",
   "execution_count": null,
   "metadata": {},
   "outputs": [],
   "source": [
    "df = pd.read_csv('..//..//dataset//final_dataset.csv')  \n",
    "\n",
    "\n",
    "X = df[['Number of Lanes', 'Status of driver', 'Nature of environment', 'Velocity of vehicle', 'Distance between vehicles', 'Breaking capability']]\n",
    "y = df['Collussion']\n",
    "\n",
    "X_scaled = X\n",
    "\n",
    "X_scaled = np.reshape(X_scaled, (X_scaled.shape[0], 1, X_scaled.shape[1]))\n",
    "\n",
    "X_train, X_test, y_train, y_test = train_test_split(X_scaled, y, test_size=0.2, random_state=42)\n"
   ]
  },
  {
   "cell_type": "code",
   "execution_count": 4,
   "metadata": {},
   "outputs": [
    {
     "name": "stdout",
     "output_type": "stream",
     "text": [
      "(320000, 1, 6) (320000,) (400000, 1, 6)\n"
     ]
    }
   ],
   "source": [
    "print(X_train.shape, y_train.shape,X_scaled.shape)"
   ]
  },
  {
   "cell_type": "markdown",
   "metadata": {},
   "source": [
    "# Model"
   ]
  },
  {
   "cell_type": "code",
   "execution_count": null,
   "metadata": {},
   "outputs": [],
   "source": [
    "def build_drnn_lstm():\n",
    "    model = Sequential()\n",
    "    \n",
    "    model.add(Input(shape=(X_train.shape[1], X_train.shape[2])))\n",
    "    \n",
    "    model.add(SimpleRNN(units=100, activation='relu', return_sequences=True))\n",
    "    model.add(LSTM(units=100, activation='relu',return_sequences=True))\n",
    "    model.add(LSTM(units=100, ))\n",
    "    \n",
    "    model.add(Dense(units=1, activation='sigmoid'))\n",
    "    \n",
    "    model.compile(optimizer=Adam(learning_rate=0.001), loss='binary_crossentropy', metrics=['mse', 'mae'])\n",
    "    \n",
    "    return model\n"
   ]
  },
  {
   "cell_type": "code",
   "execution_count": null,
   "metadata": {},
   "outputs": [
    {
     "name": "stdout",
     "output_type": "stream",
     "text": [
      "Epoch 1/5\n",
      "\u001b[1m3/3\u001b[0m \u001b[32m━━━━━━━━━━━━━━━━━━━━\u001b[0m\u001b[37m\u001b[0m \u001b[1m25s\u001b[0m 3s/step - loss: 0.6924 - mae: 0.4996 - mse: 0.2496 - val_loss: 0.6910 - val_mae: 0.4989 - val_mse: 0.2489\n",
      "Epoch 2/5\n",
      "\u001b[1m3/3\u001b[0m \u001b[32m━━━━━━━━━━━━━━━━━━━━\u001b[0m\u001b[37m\u001b[0m \u001b[1m7s\u001b[0m 2s/step - loss: 0.6908 - mae: 0.4988 - mse: 0.2488 - val_loss: 0.6890 - val_mae: 0.4978 - val_mse: 0.2479\n",
      "Epoch 3/5\n",
      "\u001b[1m3/3\u001b[0m \u001b[32m━━━━━━━━━━━━━━━━━━━━\u001b[0m\u001b[37m\u001b[0m \u001b[1m7s\u001b[0m 2s/step - loss: 0.6887 - mae: 0.4976 - mse: 0.2478 - val_loss: 0.6861 - val_mae: 0.4962 - val_mse: 0.2465\n",
      "Epoch 4/5\n",
      "\u001b[1m3/3\u001b[0m \u001b[32m━━━━━━━━━━━━━━━━━━━━\u001b[0m\u001b[37m\u001b[0m \u001b[1m6s\u001b[0m 2s/step - loss: 0.6857 - mae: 0.4960 - mse: 0.2463 - val_loss: 0.6823 - val_mae: 0.4939 - val_mse: 0.2446\n",
      "Epoch 5/5\n",
      "\u001b[1m3/3\u001b[0m \u001b[32m━━━━━━━━━━━━━━━━━━━━\u001b[0m\u001b[37m\u001b[0m \u001b[1m6s\u001b[0m 2s/step - loss: 0.6817 - mae: 0.4935 - mse: 0.2443 - val_loss: 0.6772 - val_mae: 0.4904 - val_mse: 0.2421\n"
     ]
    }
   ],
   "source": [
    "model = build_drnn_lstm()\n",
    "import time\n",
    "batch_size1 = X_train.shape[0]  # Use full dataset per batch to match experimental setup\n",
    "start_time=time.time()\n",
    "history = model.fit(\n",
    "    X_train, y_train,\n",
    "    epochs=50,\n",
    "    batch_size=batch_size1//3,\n",
    "    verbose=1,\n",
    "    validation_split=0.2\n",
    ")\n",
    "end_time = time.time()"
   ]
  },
  {
   "cell_type": "code",
   "execution_count": null,
   "metadata": {},
   "outputs": [
    {
     "name": "stdout",
     "output_type": "stream",
     "text": [
      "Total Steps: 15\n",
      "Time per Step: 0.808849 sec (808.85 ms)\n",
      "Time per Step: 808849.03 µs\n",
      "Time per Epoch: 2.43 sec\n"
     ]
    }
   ],
   "source": [
    "total_training_time = end_time - start_time  # in seconds\n",
    "epochs = 5 # e.g., 50\n",
    "steps_per_epoch = 3# e.g., 2000\n",
    "\n",
    "total_steps = epochs * steps_per_epoch\n",
    "\n",
    "time_per_step = total_training_time / total_steps  # in seconds\n",
    "time_per_step_ms = time_per_step * 1000  # Convert to milliseconds\n",
    "time_per_step_us = time_per_step_ms * 1000\n",
    "\n",
    "time_per_epoch = total_training_time / epochs\n",
    "\n",
    "print(f\"Total Steps: {total_steps}\")\n",
    "print(f\"Time per Step: {time_per_step:.6f} sec ({time_per_step_ms:.2f} ms)\")\n",
    "print(f\"Time per Step: {time_per_step_us:.2f} µs\")\n",
    "print(f\"Time per Epoch: {time_per_epoch:.2f} sec\")\n"
   ]
  },
  {
   "cell_type": "code",
   "execution_count": null,
   "metadata": {},
   "outputs": [],
   "source": [
    "from sklearn.metrics import mean_squared_error\n",
    "import numpy as np\n",
    "y_pred = model.predict(X_test)\n",
    "mse = mean_squared_error(y_test, y_pred)\n",
    "print(f'Mean Squared Error for y_pred (MSE): {mse:.16f}')\n",
    "\n",
    "rmse = np.sqrt(mse)\n",
    "print(f'Root Mean Squared Error (RMSE): {rmse:.16f}')\n",
    "\n",
    "\n",
    "y_pred = (y_pred > 0.5).astype(int)\n",
    "from sklearn.metrics import accuracy_score\n",
    "accuracy = accuracy_score(y_test, y_pred)\n",
    "print(f'Accuracy: {accuracy:.16f}')\n"
   ]
  },
  {
   "cell_type": "code",
   "execution_count": null,
   "metadata": {},
   "outputs": [],
   "source": [
    "import matplotlib.pyplot as plt\n",
    "\n",
    "# Visualizing the loss, MSE, and MAE\n",
    "plt.figure(figsize=(15, 5))\n",
    "\n",
    "# Loss plot\n",
    "plt.subplot(1, 3, 1)\n",
    "plt.plot(history.history['loss'], label='Train Loss')\n",
    "plt.plot(history.history['val_loss'], label='Validation Loss')\n",
    "plt.title('Model Loss')\n",
    "plt.ylabel('Loss')\n",
    "plt.xlabel('Epoch')\n",
    "plt.legend(loc='upper right')\n",
    "\n",
    "# MSE plot\n",
    "plt.subplot(1, 3, 2)\n",
    "plt.plot(history.history['mse'], label='Train MSE')\n",
    "plt.plot(history.history['val_mse'], label='Validation MSE')\n",
    "plt.title('Mean Squared Error')\n",
    "plt.ylabel('MSE')\n",
    "plt.xlabel('Epoch')\n",
    "plt.legend(loc='upper right')\n",
    "\n",
    "# MAE plot\n",
    "plt.subplot(1, 3, 3)\n",
    "plt.plot(history.history['mae'], label='Train MAE')\n",
    "plt.plot(history.history['val_mae'], label='Validation MAE')\n",
    "plt.title('Mean Absolute Error')\n",
    "plt.ylabel('MAE')\n",
    "plt.xlabel('Epoch')\n",
    "plt.legend(loc='upper right')\n",
    "\n",
    "plt.tight_layout()\n",
    "plt.show()\n"
   ]
  }
 ],
 "metadata": {
  "kernelspec": {
   "display_name": "new_version_py",
   "language": "python",
   "name": "python3"
  },
  "language_info": {
   "codemirror_mode": {
    "name": "ipython",
    "version": 3
   },
   "file_extension": ".py",
   "mimetype": "text/x-python",
   "name": "python",
   "nbconvert_exporter": "python",
   "pygments_lexer": "ipython3",
   "version": "3.12.9"
  }
 },
 "nbformat": 4,
 "nbformat_minor": 2
}
