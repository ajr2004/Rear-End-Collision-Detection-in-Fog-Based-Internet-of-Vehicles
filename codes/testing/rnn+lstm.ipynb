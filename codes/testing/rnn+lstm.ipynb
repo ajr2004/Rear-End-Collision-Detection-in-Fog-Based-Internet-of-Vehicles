{
 "cells": [
  {
   "cell_type": "code",
   "execution_count": 40,
   "metadata": {},
   "outputs": [],
   "source": [
    "import pandas as pd\n",
    "import numpy as np\n",
    "from sklearn.model_selection import train_test_split\n",
    "from sklearn.model_selection import train_test_split\n",
    "from sklearn.preprocessing import StandardScaler\n",
    "import tensorflow as tf\n",
    "from tensorflow.keras.models import Sequential\n",
    "from tensorflow.keras.layers import Dense, Dropout,Bidirectional, LSTM, SimpleRNN,GRU,Input\n",
    "from tensorflow.keras.optimizers import Adam\n",
    "from tensorflow.keras.callbacks import EarlyStopping, ModelCheckpoint\n"
   ]
  },
  {
   "cell_type": "code",
   "execution_count": 41,
   "metadata": {},
   "outputs": [],
   "source": [
    "# Load the dataset\n",
    "df = pd.read_csv('..\\\\..\\\\dataset\\\\Dataset_IoV.csv')  \n",
    "\n",
    "\n",
    "# Separating features and target\n",
    "X = df[['Number of Lanes', 'Status of driver', 'Nature of environment', 'Velocity of vehicle', 'Distance between vehicles', 'Breaking capability']].values\n",
    "y = df['Collussion'].values\n",
    "\n",
    "# Define sequence length\n",
    "num_steps = 3\n",
    "\n",
    "# scaler = StandardScaler()\n",
    "# X_scaled = scaler.fit_transform(X)\n",
    "X_scaled = X\n"
   ]
  },
  {
   "cell_type": "code",
   "execution_count": 42,
   "metadata": {},
   "outputs": [
    {
     "name": "stdout",
     "output_type": "stream",
     "text": [
      "X_train shape: (165417, 3, 6)\n",
      "X_test shape: (41355, 3, 6)\n"
     ]
    }
   ],
   "source": [
    "\n",
    "# Function to create sequences\n",
    "def create_sequences(X, y, num_steps):\n",
    "    sequences, labels = [], []\n",
    "    for i in range(len(X) - num_steps):\n",
    "        sequences.append(X[i:i + num_steps])  # Take `num_steps` rows as input\n",
    "        labels.append(y[i + num_steps])  # The next row is the target\n",
    "    return np.array(sequences), np.array(labels)\n",
    "\n",
    "# Create sequences\n",
    "X_seq, y_seq = create_sequences(X_scaled, y, num_steps)\n",
    "\n",
    "# Split into training and test sets\n",
    "X_train, X_test, y_train, y_test = train_test_split(X_seq, y_seq, test_size=0.2, random_state=42)\n",
    "\n",
    "# Check shapes\n",
    "print(f\"X_train shape: {X_train.shape}\")  # (samples, 3, features)\n",
    "print(f\"X_test shape: {X_test.shape}\")    # (samples, 3, features)"
   ]
  },
  {
   "cell_type": "code",
   "execution_count": 43,
   "metadata": {},
   "outputs": [
    {
     "name": "stdout",
     "output_type": "stream",
     "text": [
      "(165417, 3, 6) (165417,) (206775, 6)\n",
      "(206775, 6)\n",
      "[[[1.   2.   1.   0.35 0.   0.  ]\n",
      "  [2.   2.   1.   0.35 1.   1.  ]\n",
      "  [2.   2.   1.   0.35 0.   0.  ]]\n",
      "\n",
      " [[2.   1.   2.   1.   0.   0.  ]\n",
      "  [2.   1.   1.   1.   0.   0.  ]\n",
      "  [2.   1.   1.   1.   0.   0.  ]]]\n"
     ]
    }
   ],
   "source": [
    "print(X_train.shape, y_train.shape,X_scaled.shape)\n",
    "print(X_scaled.shape)\n",
    "print(X_train[:2])"
   ]
  },
  {
   "cell_type": "markdown",
   "metadata": {},
   "source": [
    "# Model"
   ]
  },
  {
   "cell_type": "code",
   "execution_count": 44,
   "metadata": {},
   "outputs": [
    {
     "name": "stdout",
     "output_type": "stream",
     "text": [
      "[1 1]\n",
      "X_train shape: (165417, 3, 6)\n",
      "y_train shape: (165417,)\n",
      "X_test shape: (41355, 3, 6)\n",
      "y_test shape: (41355,)\n"
     ]
    }
   ],
   "source": [
    "print(y_train[:2])\n",
    "print(f\"X_train shape: {X_train.shape}\")\n",
    "print(f\"y_train shape: {y_train.shape}\")\n",
    "print(f\"X_test shape: {X_test.shape}\")\n",
    "print(f\"y_test shape: {y_test.shape}\")\n"
   ]
  },
  {
   "cell_type": "code",
   "execution_count": 45,
   "metadata": {},
   "outputs": [],
   "source": [
    "def build_drnn_lstm():\n",
    "    model = Sequential()\n",
    "    \n",
    "    # Input layer\n",
    "    model.add(Input(shape=(X_train.shape[1], X_train.shape[2])))\n",
    "    \n",
    "    model.add(SimpleRNN(units=100, activation='relu', return_sequences=True))\n",
    "    model.add(LSTM(units=100, activation='relu',return_sequences=True))\n",
    "    model.add(LSTM(units=100, ))\n",
    "    \n",
    "    # Output layer\n",
    "    model.add(Dense(units=1, activation='sigmoid'))\n",
    "    \n",
    "    # Compile the model\n",
    "    model.compile(optimizer=Adam(learning_rate=0.001), loss='binary_crossentropy', metrics=['mse', 'mae'])\n",
    "    \n",
    "    return model\n"
   ]
  },
  {
   "cell_type": "code",
   "execution_count": 46,
   "metadata": {},
   "outputs": [
    {
     "name": "stdout",
     "output_type": "stream",
     "text": [
      "Epoch 1/10\n",
      "\u001b[1m1293/1293\u001b[0m \u001b[32m━━━━━━━━━━━━━━━━━━━━\u001b[0m\u001b[37m\u001b[0m \u001b[1m25s\u001b[0m 15ms/step - loss: 0.6367 - mae: 0.4449 - mse: 0.2224 - val_loss: 0.6286 - val_mae: 0.4417 - val_mse: 0.2186\n",
      "Epoch 2/10\n",
      "\u001b[1m1293/1293\u001b[0m \u001b[32m━━━━━━━━━━━━━━━━━━━━\u001b[0m\u001b[37m\u001b[0m \u001b[1m20s\u001b[0m 15ms/step - loss: 0.6294 - mae: 0.4382 - mse: 0.2190 - val_loss: 0.6270 - val_mae: 0.4335 - val_mse: 0.2179\n",
      "Epoch 3/10\n",
      "\u001b[1m1293/1293\u001b[0m \u001b[32m━━━━━━━━━━━━━━━━━━━━\u001b[0m\u001b[37m\u001b[0m \u001b[1m19s\u001b[0m 15ms/step - loss: 0.6280 - mae: 0.4367 - mse: 0.2184 - val_loss: 0.6266 - val_mae: 0.4390 - val_mse: 0.2177\n",
      "Epoch 4/10\n",
      "\u001b[1m1293/1293\u001b[0m \u001b[32m━━━━━━━━━━━━━━━━━━━━\u001b[0m\u001b[37m\u001b[0m \u001b[1m19s\u001b[0m 15ms/step - loss: 0.6269 - mae: 0.4359 - mse: 0.2179 - val_loss: 0.6256 - val_mae: 0.4392 - val_mse: 0.2173\n",
      "Epoch 5/10\n",
      "\u001b[1m1293/1293\u001b[0m \u001b[32m━━━━━━━━━━━━━━━━━━━━\u001b[0m\u001b[37m\u001b[0m \u001b[1m19s\u001b[0m 15ms/step - loss: 0.6255 - mae: 0.4347 - mse: 0.2172 - val_loss: 0.6253 - val_mae: 0.4365 - val_mse: 0.2171\n",
      "Epoch 6/10\n",
      "\u001b[1m1293/1293\u001b[0m \u001b[32m━━━━━━━━━━━━━━━━━━━━\u001b[0m\u001b[37m\u001b[0m \u001b[1m18s\u001b[0m 14ms/step - loss: 0.6264 - mae: 0.4357 - mse: 0.2177 - val_loss: 0.6252 - val_mae: 0.4326 - val_mse: 0.2171\n",
      "Epoch 7/10\n",
      "\u001b[1m1293/1293\u001b[0m \u001b[32m━━━━━━━━━━━━━━━━━━━━\u001b[0m\u001b[37m\u001b[0m \u001b[1m18s\u001b[0m 14ms/step - loss: 0.6251 - mae: 0.4338 - mse: 0.2171 - val_loss: 0.6249 - val_mae: 0.4377 - val_mse: 0.2170\n",
      "Epoch 8/10\n",
      "\u001b[1m1293/1293\u001b[0m \u001b[32m━━━━━━━━━━━━━━━━━━━━\u001b[0m\u001b[37m\u001b[0m \u001b[1m25s\u001b[0m 19ms/step - loss: 0.6245 - mae: 0.4339 - mse: 0.2168 - val_loss: 0.6243 - val_mae: 0.4295 - val_mse: 0.2167\n",
      "Epoch 9/10\n",
      "\u001b[1m1293/1293\u001b[0m \u001b[32m━━━━━━━━━━━━━━━━━━━━\u001b[0m\u001b[37m\u001b[0m \u001b[1m19s\u001b[0m 14ms/step - loss: 0.6233 - mae: 0.4322 - mse: 0.2162 - val_loss: 0.6239 - val_mae: 0.4323 - val_mse: 0.2165\n",
      "Epoch 10/10\n",
      "\u001b[1m1293/1293\u001b[0m \u001b[32m━━━━━━━━━━━━━━━━━━━━\u001b[0m\u001b[37m\u001b[0m \u001b[1m25s\u001b[0m 19ms/step - loss: 0.6240 - mae: 0.4332 - mse: 0.2166 - val_loss: 0.6239 - val_mae: 0.4311 - val_mse: 0.2165\n"
     ]
    }
   ],
   "source": [
    "# Instantiate and train the model\n",
    "model = build_drnn_lstm()\n",
    "import time\n",
    "start_time=time.time()\n",
    "history = model.fit(\n",
    "    X_train, y_train,\n",
    "    epochs=10,\n",
    "    batch_size=128,\n",
    "    verbose=1,\n",
    "    validation_data=(X_test, y_test)  # Use test set for validation\n",
    ")\n",
    "\n",
    "end_time = time.time()"
   ]
  },
  {
   "cell_type": "code",
   "execution_count": 50,
   "metadata": {},
   "outputs": [
    {
     "name": "stdout",
     "output_type": "stream",
     "text": [
      "Total Steps: 12930\n",
      "Time per Step: 0.016015 sec (16.01 ms)\n",
      "Time per Step: 16014.83 µs\n",
      "Time per Epoch: 20.71 sec\n"
     ]
    }
   ],
   "source": [
    "# Calculate total training time\n",
    "total_training_time = end_time - start_time  # in seconds\n",
    "epochs = 10 # e.g., 50\n",
    "steps_per_epoch = 1293# e.g., 2000\n",
    "\n",
    "# Total steps\n",
    "total_steps = epochs * steps_per_epoch\n",
    "\n",
    "# Calculate time per step\n",
    "time_per_step = total_training_time / total_steps  # in seconds\n",
    "time_per_step_ms = time_per_step * 1000  # Convert to milliseconds\n",
    "#micro seconds\n",
    "time_per_step_us = time_per_step_ms * 1000\n",
    "\n",
    "# Calculate time per epoch\n",
    "time_per_epoch = total_training_time / epochs\n",
    "\n",
    "# Display results\n",
    "print(f\"Total Steps: {total_steps}\")\n",
    "print(f\"Time per Step: {time_per_step:.6f} sec ({time_per_step_ms:.2f} ms)\")\n",
    "print(f\"Time per Step: {time_per_step_us:.2f} µs\")\n",
    "print(f\"Time per Epoch: {time_per_epoch:.2f} sec\")\n"
   ]
  },
  {
   "cell_type": "code",
   "execution_count": 48,
   "metadata": {},
   "outputs": [
    {
     "name": "stdout",
     "output_type": "stream",
     "text": [
      "\u001b[1m1293/1293\u001b[0m \u001b[32m━━━━━━━━━━━━━━━━━━━━\u001b[0m\u001b[37m\u001b[0m \u001b[1m5s\u001b[0m 3ms/step\n",
      "Mean Squared Error for y_pred (MSE): 0.2165349274873734\n",
      "Root Mean Squared Error (RMSE): 0.4653331360298483\n",
      "Accuracy: 0.6692298391971950\n"
     ]
    }
   ],
   "source": [
    "from sklearn.metrics import mean_squared_error\n",
    "import numpy as np\n",
    "# Make predictions\n",
    "y_pred = model.predict(X_test)\n",
    "mse = mean_squared_error(y_test, y_pred)\n",
    "print(f'Mean Squared Error for y_pred (MSE): {mse:.16f}')\n",
    "\n",
    "# Calculate RMSE\n",
    "rmse = np.sqrt(mse)\n",
    "print(f'Root Mean Squared Error (RMSE): {rmse:.16f}')\n",
    "\n",
    "\n",
    "#ACCUARCY\n",
    "y_pred = (y_pred > 0.5).astype(int)\n",
    "from sklearn.metrics import accuracy_score\n",
    "accuracy = accuracy_score(y_test, y_pred)\n",
    "print(f'Accuracy: {accuracy:.16f}')\n"
   ]
  },
  {
   "cell_type": "code",
   "execution_count": 49,
   "metadata": {},
   "outputs": [],
   "source": [
    "# import matplotlib.pyplot as plt\n",
    "\n",
    "# # Visualizing the loss, MSE, and MAE\n",
    "# plt.figure(figsize=(15, 5))\n",
    "\n",
    "# # Loss plot\n",
    "# plt.subplot(1, 3, 1)\n",
    "# plt.plot(history.history['loss'], label='Train Loss')\n",
    "# plt.plot(history.history['val_loss'], label='Validation Loss')\n",
    "# plt.title('Model Loss')\n",
    "# plt.ylabel('Loss')\n",
    "# plt.xlabel('Epoch')\n",
    "# plt.legend(loc='upper right')\n",
    "\n",
    "# # MSE plot\n",
    "# plt.subplot(1, 3, 2)\n",
    "# plt.plot(history.history['mse'], label='Train MSE')\n",
    "# plt.plot(history.history['val_mse'], label='Validation MSE')\n",
    "# plt.title('Mean Squared Error')\n",
    "# plt.ylabel('MSE')\n",
    "# plt.xlabel('Epoch')\n",
    "# plt.legend(loc='upper right')\n",
    "\n",
    "# # MAE plot\n",
    "# plt.subplot(1, 3, 3)\n",
    "# plt.plot(history.history['mae'], label='Train MAE')\n",
    "# plt.plot(history.history['val_mae'], label='Validation MAE')\n",
    "# plt.title('Mean Absolute Error')\n",
    "# plt.ylabel('MAE')\n",
    "# plt.xlabel('Epoch')\n",
    "# plt.legend(loc='upper right')\n",
    "\n",
    "# plt.tight_layout()\n",
    "# plt.show()\n"
   ]
  }
 ],
 "metadata": {
  "kernelspec": {
   "display_name": "new_version_py",
   "language": "python",
   "name": "python3"
  },
  "language_info": {
   "codemirror_mode": {
    "name": "ipython",
    "version": 3
   },
   "file_extension": ".py",
   "mimetype": "text/x-python",
   "name": "python",
   "nbconvert_exporter": "python",
   "pygments_lexer": "ipython3",
   "version": "3.12.9"
  }
 },
 "nbformat": 4,
 "nbformat_minor": 2
}
