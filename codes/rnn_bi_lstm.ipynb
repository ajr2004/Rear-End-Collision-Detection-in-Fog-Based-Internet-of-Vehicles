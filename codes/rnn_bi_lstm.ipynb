{
 "cells": [
  {
   "cell_type": "code",
   "execution_count": 111,
   "metadata": {},
   "outputs": [],
   "source": [
    "import pandas as pd\n",
    "import numpy as np\n",
    "from sklearn.preprocessing import MinMaxScaler,RobustScaler,StandardScaler\n",
    "from sklearn.model_selection import train_test_split\n",
    "from sklearn.model_selection import train_test_split\n",
    "\n",
    "import tensorflow as tf\n",
    "from tensorflow.keras.models import Sequential\n",
    "from tensorflow.keras.layers import Dense, Dropout,Bidirectional, LSTM, SimpleRNN,GRU,Input\n",
    "from tensorflow.keras.optimizers import Adam,RMSprop\n",
    "from tensorflow.keras.callbacks import EarlyStopping, ModelCheckpoint\n"
   ]
  },
  {
   "cell_type": "code",
   "execution_count": 112,
   "metadata": {},
   "outputs": [],
   "source": [
    "# Load the dataset\n",
    "df = pd.read_csv('..//dataset//final_dataset_compressed.csv')  # Replace with your dataset path\n",
    "\n",
    "# Separating features and target\n",
    "X = df[['Number of Lanes', 'Status of driver', 'Nature of environment', 'Velocity of vehicle', 'Distance between vehicles', 'Breaking capability']]\n",
    "y = df['Collussion']\n",
    "\n",
    "\n",
    "\n",
    "# scaler=RobustScaler()\n",
    "# X_scaled = scaler.fit_transform(X)\n",
    "\n",
    "scaler = StandardScaler()\n",
    "X_scaled = scaler.fit_transform(X)\n",
    "# X_scaled = X\n",
    "\n",
    "# Reshape input to be 3D [samples, timesteps, features] for LSTM\n",
    "X_scaled = np.reshape(X_scaled, (X_scaled.shape[0], 1, X_scaled.shape[1]))\n",
    "\n",
    "# Split into training and test sets\n",
    "X_train, X_test, y_train, y_test = train_test_split(X_scaled, y, test_size=0.2, random_state=42)\n"
   ]
  },
  {
   "cell_type": "code",
   "execution_count": 113,
   "metadata": {},
   "outputs": [
    {
     "name": "stdout",
     "output_type": "stream",
     "text": [
      "(320000, 1, 6) (320000,) (400000, 1, 6)\n"
     ]
    }
   ],
   "source": [
    "print(X_train.shape, y_train.shape,X_scaled.shape)"
   ]
  },
  {
   "cell_type": "markdown",
   "metadata": {},
   "source": [
    "# Model"
   ]
  },
  {
   "cell_type": "code",
   "execution_count": 114,
   "metadata": {},
   "outputs": [],
   "source": [
    "def build_deep_rnn_bi_lstm():\n",
    "    model = Sequential()\n",
    "    \n",
    "    # Add multiple SimpleRNN layers for Deep RNN\n",
    "    model.add(Input(shape=(X_train.shape[1], X_train.shape[2])))\n",
    "    model.add(SimpleRNN(units=50, return_sequences=True))\n",
    "    model.add(Dropout(0.1))\n",
    "    model.add(SimpleRNN(units=50, return_sequences=True))\n",
    "    model.add(Dropout(0.1))\n",
    "\n",
    "    # Add multiple Bidirectional LSTM layers\n",
    "    model.add(Bidirectional(LSTM(units=50, return_sequences=True)))\n",
    "    model.add(Dropout(0.1))\n",
    "    model.add(Bidirectional(LSTM(units=50, return_sequences=True)))\n",
    "    model.add(Dropout(0.1))\n",
    "    model.add(Bidirectional(LSTM(units=32)))\n",
    "    model.add(Dropout(0.1))\n",
    "\n",
    "    # Output layer\n",
    "    model.add(Dense(units=1, activation='sigmoid'))\n",
    "\n",
    "    # Compile the model\n",
    "    model.compile(optimizer=Adam(learning_rate=0.001), loss='binary_crossentropy', metrics=['mse', 'mae'])\n",
    "\n",
    "    return model\n"
   ]
  },
  {
   "cell_type": "code",
   "execution_count": 115,
   "metadata": {},
   "outputs": [
    {
     "name": "stdout",
     "output_type": "stream",
     "text": [
      "Epoch 1/50\n",
      "\u001b[1m2000/2000\u001b[0m \u001b[32m━━━━━━━━━━━━━━━━━━━━\u001b[0m\u001b[37m\u001b[0m \u001b[1m16s\u001b[0m 5ms/step - loss: 0.0934 - mae: 0.0654 - mse: 0.0303 - val_loss: 0.0316 - val_mae: 0.0202 - val_mse: 0.0107\n",
      "Epoch 2/50\n",
      "\u001b[1m2000/2000\u001b[0m \u001b[32m━━━━━━━━━━━━━━━━━━━━\u001b[0m\u001b[37m\u001b[0m \u001b[1m9s\u001b[0m 4ms/step - loss: 0.0328 - mae: 0.0216 - mse: 0.0109 - val_loss: 0.0301 - val_mae: 0.0207 - val_mse: 0.0102\n",
      "Epoch 3/50\n",
      "\u001b[1m2000/2000\u001b[0m \u001b[32m━━━━━━━━━━━━━━━━━━━━\u001b[0m\u001b[37m\u001b[0m \u001b[1m9s\u001b[0m 4ms/step - loss: 0.0314 - mae: 0.0210 - mse: 0.0105 - val_loss: 0.0325 - val_mae: 0.0209 - val_mse: 0.0110\n",
      "Epoch 4/50\n",
      "\u001b[1m2000/2000\u001b[0m \u001b[32m━━━━━━━━━━━━━━━━━━━━\u001b[0m\u001b[37m\u001b[0m \u001b[1m9s\u001b[0m 4ms/step - loss: 0.0316 - mae: 0.0212 - mse: 0.0106 - val_loss: 0.0293 - val_mae: 0.0194 - val_mse: 0.0100\n",
      "Epoch 5/50\n",
      "\u001b[1m2000/2000\u001b[0m \u001b[32m━━━━━━━━━━━━━━━━━━━━\u001b[0m\u001b[37m\u001b[0m \u001b[1m9s\u001b[0m 5ms/step - loss: 0.0314 - mae: 0.0212 - mse: 0.0107 - val_loss: 0.0288 - val_mae: 0.0201 - val_mse: 0.0098\n",
      "Epoch 6/50\n",
      "\u001b[1m2000/2000\u001b[0m \u001b[32m━━━━━━━━━━━━━━━━━━━━\u001b[0m\u001b[37m\u001b[0m \u001b[1m9s\u001b[0m 4ms/step - loss: 0.0303 - mae: 0.0205 - mse: 0.0102 - val_loss: 0.0286 - val_mae: 0.0193 - val_mse: 0.0097\n",
      "Epoch 7/50\n",
      "\u001b[1m2000/2000\u001b[0m \u001b[32m━━━━━━━━━━━━━━━━━━━━\u001b[0m\u001b[37m\u001b[0m \u001b[1m9s\u001b[0m 4ms/step - loss: 0.0301 - mae: 0.0204 - mse: 0.0102 - val_loss: 0.0297 - val_mae: 0.0193 - val_mse: 0.0101\n",
      "Epoch 8/50\n",
      "\u001b[1m2000/2000\u001b[0m \u001b[32m━━━━━━━━━━━━━━━━━━━━\u001b[0m\u001b[37m\u001b[0m \u001b[1m9s\u001b[0m 4ms/step - loss: 0.0302 - mae: 0.0205 - mse: 0.0103 - val_loss: 0.0284 - val_mae: 0.0194 - val_mse: 0.0097\n",
      "Epoch 9/50\n",
      "\u001b[1m2000/2000\u001b[0m \u001b[32m━━━━━━━━━━━━━━━━━━━━\u001b[0m\u001b[37m\u001b[0m \u001b[1m9s\u001b[0m 4ms/step - loss: 0.0295 - mae: 0.0200 - mse: 0.0100 - val_loss: 0.0284 - val_mae: 0.0194 - val_mse: 0.0097\n",
      "Epoch 10/50\n",
      "\u001b[1m2000/2000\u001b[0m \u001b[32m━━━━━━━━━━━━━━━━━━━━\u001b[0m\u001b[37m\u001b[0m \u001b[1m9s\u001b[0m 4ms/step - loss: 0.0288 - mae: 0.0195 - mse: 0.0098 - val_loss: 0.0279 - val_mae: 0.0199 - val_mse: 0.0095\n",
      "Epoch 11/50\n",
      "\u001b[1m2000/2000\u001b[0m \u001b[32m━━━━━━━━━━━━━━━━━━━━\u001b[0m\u001b[37m\u001b[0m \u001b[1m9s\u001b[0m 4ms/step - loss: 0.0293 - mae: 0.0200 - mse: 0.0099 - val_loss: 0.0282 - val_mae: 0.0187 - val_mse: 0.0096\n",
      "Epoch 12/50\n",
      "\u001b[1m2000/2000\u001b[0m \u001b[32m━━━━━━━━━━━━━━━━━━━━\u001b[0m\u001b[37m\u001b[0m \u001b[1m10s\u001b[0m 5ms/step - loss: 0.0298 - mae: 0.0201 - mse: 0.0101 - val_loss: 0.0307 - val_mae: 0.0196 - val_mse: 0.0102\n",
      "Epoch 13/50\n",
      "\u001b[1m2000/2000\u001b[0m \u001b[32m━━━━━━━━━━━━━━━━━━━━\u001b[0m\u001b[37m\u001b[0m \u001b[1m9s\u001b[0m 5ms/step - loss: 0.0290 - mae: 0.0196 - mse: 0.0098 - val_loss: 0.0280 - val_mae: 0.0185 - val_mse: 0.0096\n",
      "Epoch 14/50\n",
      "\u001b[1m2000/2000\u001b[0m \u001b[32m━━━━━━━━━━━━━━━━━━━━\u001b[0m\u001b[37m\u001b[0m \u001b[1m9s\u001b[0m 4ms/step - loss: 0.0283 - mae: 0.0191 - mse: 0.0096 - val_loss: 0.0285 - val_mae: 0.0188 - val_mse: 0.0098\n",
      "Epoch 15/50\n",
      "\u001b[1m2000/2000\u001b[0m \u001b[32m━━━━━━━━━━━━━━━━━━━━\u001b[0m\u001b[37m\u001b[0m \u001b[1m9s\u001b[0m 5ms/step - loss: 0.0286 - mae: 0.0195 - mse: 0.0097 - val_loss: 0.0278 - val_mae: 0.0187 - val_mse: 0.0096\n",
      "Epoch 16/50\n",
      "\u001b[1m2000/2000\u001b[0m \u001b[32m━━━━━━━━━━━━━━━━━━━━\u001b[0m\u001b[37m\u001b[0m \u001b[1m9s\u001b[0m 4ms/step - loss: 0.0288 - mae: 0.0195 - mse: 0.0098 - val_loss: 0.0289 - val_mae: 0.0195 - val_mse: 0.0099\n",
      "Epoch 17/50\n",
      "\u001b[1m2000/2000\u001b[0m \u001b[32m━━━━━━━━━━━━━━━━━━━━\u001b[0m\u001b[37m\u001b[0m \u001b[1m9s\u001b[0m 4ms/step - loss: 0.0282 - mae: 0.0192 - mse: 0.0096 - val_loss: 0.0285 - val_mae: 0.0195 - val_mse: 0.0097\n",
      "Epoch 18/50\n",
      "\u001b[1m2000/2000\u001b[0m \u001b[32m━━━━━━━━━━━━━━━━━━━━\u001b[0m\u001b[37m\u001b[0m \u001b[1m9s\u001b[0m 4ms/step - loss: 0.0279 - mae: 0.0190 - mse: 0.0095 - val_loss: 0.0277 - val_mae: 0.0193 - val_mse: 0.0095\n",
      "Epoch 19/50\n",
      "\u001b[1m2000/2000\u001b[0m \u001b[32m━━━━━━━━━━━━━━━━━━━━\u001b[0m\u001b[37m\u001b[0m \u001b[1m10s\u001b[0m 5ms/step - loss: 0.0283 - mae: 0.0194 - mse: 0.0097 - val_loss: 0.0274 - val_mae: 0.0184 - val_mse: 0.0094\n",
      "Epoch 20/50\n",
      "\u001b[1m2000/2000\u001b[0m \u001b[32m━━━━━━━━━━━━━━━━━━━━\u001b[0m\u001b[37m\u001b[0m \u001b[1m9s\u001b[0m 5ms/step - loss: 0.0285 - mae: 0.0193 - mse: 0.0097 - val_loss: 0.0272 - val_mae: 0.0189 - val_mse: 0.0094\n",
      "Epoch 21/50\n",
      "\u001b[1m2000/2000\u001b[0m \u001b[32m━━━━━━━━━━━━━━━━━━━━\u001b[0m\u001b[37m\u001b[0m \u001b[1m9s\u001b[0m 4ms/step - loss: 0.0279 - mae: 0.0191 - mse: 0.0095 - val_loss: 0.0282 - val_mae: 0.0196 - val_mse: 0.0097\n",
      "Epoch 22/50\n",
      "\u001b[1m2000/2000\u001b[0m \u001b[32m━━━━━━━━━━━━━━━━━━━━\u001b[0m\u001b[37m\u001b[0m \u001b[1m9s\u001b[0m 4ms/step - loss: 0.0279 - mae: 0.0191 - mse: 0.0095 - val_loss: 0.0275 - val_mae: 0.0191 - val_mse: 0.0094\n",
      "Epoch 23/50\n",
      "\u001b[1m2000/2000\u001b[0m \u001b[32m━━━━━━━━━━━━━━━━━━━━\u001b[0m\u001b[37m\u001b[0m \u001b[1m9s\u001b[0m 4ms/step - loss: 0.0282 - mae: 0.0193 - mse: 0.0097 - val_loss: 0.0272 - val_mae: 0.0185 - val_mse: 0.0093\n",
      "Epoch 24/50\n",
      "\u001b[1m2000/2000\u001b[0m \u001b[32m━━━━━━━━━━━━━━━━━━━━\u001b[0m\u001b[37m\u001b[0m \u001b[1m9s\u001b[0m 4ms/step - loss: 0.0278 - mae: 0.0190 - mse: 0.0095 - val_loss: 0.0277 - val_mae: 0.0191 - val_mse: 0.0095\n",
      "Epoch 25/50\n",
      "\u001b[1m2000/2000\u001b[0m \u001b[32m━━━━━━━━━━━━━━━━━━━━\u001b[0m\u001b[37m\u001b[0m \u001b[1m9s\u001b[0m 4ms/step - loss: 0.0279 - mae: 0.0191 - mse: 0.0096 - val_loss: 0.0279 - val_mae: 0.0188 - val_mse: 0.0096\n",
      "Epoch 26/50\n",
      "\u001b[1m2000/2000\u001b[0m \u001b[32m━━━━━━━━━━━━━━━━━━━━\u001b[0m\u001b[37m\u001b[0m \u001b[1m9s\u001b[0m 4ms/step - loss: 0.0273 - mae: 0.0187 - mse: 0.0094 - val_loss: 0.0274 - val_mae: 0.0185 - val_mse: 0.0094\n",
      "Epoch 27/50\n",
      "\u001b[1m2000/2000\u001b[0m \u001b[32m━━━━━━━━━━━━━━━━━━━━\u001b[0m\u001b[37m\u001b[0m \u001b[1m9s\u001b[0m 4ms/step - loss: 0.0278 - mae: 0.0190 - mse: 0.0095 - val_loss: 0.0282 - val_mae: 0.0194 - val_mse: 0.0097\n",
      "Epoch 28/50\n",
      "\u001b[1m2000/2000\u001b[0m \u001b[32m━━━━━━━━━━━━━━━━━━━━\u001b[0m\u001b[37m\u001b[0m \u001b[1m9s\u001b[0m 4ms/step - loss: 0.0286 - mae: 0.0196 - mse: 0.0098 - val_loss: 0.0274 - val_mae: 0.0189 - val_mse: 0.0094\n",
      "Epoch 29/50\n",
      "\u001b[1m2000/2000\u001b[0m \u001b[32m━━━━━━━━━━━━━━━━━━━━\u001b[0m\u001b[37m\u001b[0m \u001b[1m9s\u001b[0m 4ms/step - loss: 0.0277 - mae: 0.0190 - mse: 0.0095 - val_loss: 0.0278 - val_mae: 0.0188 - val_mse: 0.0095\n",
      "Epoch 30/50\n",
      "\u001b[1m2000/2000\u001b[0m \u001b[32m━━━━━━━━━━━━━━━━━━━━\u001b[0m\u001b[37m\u001b[0m \u001b[1m9s\u001b[0m 4ms/step - loss: 0.0274 - mae: 0.0187 - mse: 0.0094 - val_loss: 0.0275 - val_mae: 0.0185 - val_mse: 0.0094\n",
      "Epoch 31/50\n",
      "\u001b[1m2000/2000\u001b[0m \u001b[32m━━━━━━━━━━━━━━━━━━━━\u001b[0m\u001b[37m\u001b[0m \u001b[1m9s\u001b[0m 4ms/step - loss: 0.0280 - mae: 0.0191 - mse: 0.0096 - val_loss: 0.0277 - val_mae: 0.0188 - val_mse: 0.0095\n",
      "Epoch 32/50\n",
      "\u001b[1m2000/2000\u001b[0m \u001b[32m━━━━━━━━━━━━━━━━━━━━\u001b[0m\u001b[37m\u001b[0m \u001b[1m9s\u001b[0m 4ms/step - loss: 0.0275 - mae: 0.0188 - mse: 0.0094 - val_loss: 0.0269 - val_mae: 0.0187 - val_mse: 0.0093\n",
      "Epoch 32: early stopping\n",
      "Restoring model weights from the end of the best epoch: 29.\n"
     ]
    }
   ],
   "source": [
    "# Early stopping callback\n",
    "early_stopping = EarlyStopping(\n",
    "    monitor='mse',  \n",
    "    patience=3,   \n",
    "    restore_best_weights=True, \n",
    "    verbose=1\n",
    ")\n",
    "# Model checkpoint callback\n",
    "best_weights_filepath ='..//models//best_model.keras'\n",
    "\n",
    "model_checkpoint = ModelCheckpoint(\n",
    "    best_weights_filepath,  \n",
    "    monitor='val_mse',  \n",
    "    mode='min',       \n",
    "    save_best_only=True,   \n",
    "    verbose=1\n",
    ")\n",
    "\n",
    "# Instantiate and train the model\n",
    "model = build_deep_rnn_bi_lstm()\n",
    "history = model.fit(X_train, y_train, epochs=50, batch_size=128, validation_split=0.2, verbose=1,   \n",
    " callbacks=[early_stopping]\n",
    ")"
   ]
  },
  {
   "cell_type": "code",
   "execution_count": 116,
   "metadata": {},
   "outputs": [],
   "source": [
    "# import numpy as np\n",
    "\n",
    "# # Set numpy to display full float numbers\n",
    "# np.set_printoptions(suppress=True, precision=10)"
   ]
  },
  {
   "cell_type": "code",
   "execution_count": 117,
   "metadata": {},
   "outputs": [],
   "source": [
    "# results = model.evaluate(X_test, y_test, verbose=1)\n",
    "# loss, mse, mae = results  # Unpack all the returned metrics\n",
    "# print(f'Loss: {loss:.4f}')\n",
    "# print(f'Mean Squared Error (MSE): {mse:.4f}')\n",
    "# print(f'Mean Absolute Error (MAE): {mae:.4f}')\n"
   ]
  },
  {
   "cell_type": "code",
   "execution_count": 118,
   "metadata": {},
   "outputs": [
    {
     "name": "stdout",
     "output_type": "stream",
     "text": [
      "\u001b[1m2500/2500\u001b[0m \u001b[32m━━━━━━━━━━━━━━━━━━━━\u001b[0m\u001b[37m\u001b[0m \u001b[1m3s\u001b[0m 1ms/step\n",
      "Mean Squared Error (MSE): 0.0094541935250163\n",
      "Root Mean Squared Error (RMSE): 0.0972326772490417\n"
     ]
    }
   ],
   "source": [
    "\n",
    "from sklearn.metrics import mean_squared_error\n",
    "import numpy as np\n",
    "\n",
    "# Make predictions\n",
    "y_pred = model.predict(X_test)\n",
    "\n",
    "# Calculate MSE\n",
    "mse = mean_squared_error(y_test, y_pred)\n",
    "print(f'Mean Squared Error (MSE): {mse:.16f}')\n",
    "\n",
    "# Calculate RMSE\n",
    "rmse = np.sqrt(mse)\n",
    "print(f'Root Mean Squared Error (RMSE): {rmse:.16f}')"
   ]
  },
  {
   "cell_type": "code",
   "execution_count": 119,
   "metadata": {},
   "outputs": [],
   "source": [
    "# import matplotlib.pyplot as plt\n",
    "\n",
    "# # Visualizing the loss, MSE, and MAE\n",
    "# plt.figure(figsize=(15, 5))\n",
    "\n",
    "# # Loss plot\n",
    "# plt.subplot(1, 3, 1)\n",
    "# plt.plot(history.history['loss'], label='Train Loss')\n",
    "# plt.plot(history.history['val_loss'], label='Validation Loss')\n",
    "# plt.title('Model Loss')\n",
    "# plt.ylabel('Loss')\n",
    "# plt.xlabel('Epoch')\n",
    "# plt.legend(loc='upper right')\n",
    "\n",
    "# # MSE plot\n",
    "# plt.subplot(1, 3, 2)\n",
    "# plt.plot(history.history['mse'], label='Train MSE')\n",
    "# plt.plot(history.history['val_mse'], label='Validation MSE')\n",
    "# plt.title('Mean Squared Error')\n",
    "# plt.ylabel('MSE')\n",
    "# plt.xlabel('Epoch')\n",
    "# plt.legend(loc='upper right')\n",
    "\n",
    "# # MAE plot\n",
    "# plt.subplot(1, 3, 3)\n",
    "# plt.plot(history.history['mae'], label='Train MAE')\n",
    "# plt.plot(history.history['val_mae'], label='Validation MAE')\n",
    "# plt.title('Mean Absolute Error')\n",
    "# plt.ylabel('MAE')\n",
    "# plt.xlabel('Epoch')\n",
    "# plt.legend(loc='upper right')\n",
    "\n",
    "# plt.tight_layout()\n",
    "# plt.show()\n"
   ]
  },
  {
   "cell_type": "code",
   "execution_count": 120,
   "metadata": {},
   "outputs": [],
   "source": [
    "#saving the model\n",
    "# model.save('..//models//deep_rnn_bi_lstm_updated_1.keras')  # Replace with your model path"
   ]
  }
 ],
 "metadata": {
  "kernelspec": {
   "display_name": "Python 3",
   "language": "python",
   "name": "python3"
  },
  "language_info": {
   "codemirror_mode": {
    "name": "ipython",
    "version": 3
   },
   "file_extension": ".py",
   "mimetype": "text/x-python",
   "name": "python",
   "nbconvert_exporter": "python",
   "pygments_lexer": "ipython3",
   "version": "3.11.11"
  }
 },
 "nbformat": 4,
 "nbformat_minor": 2
}
